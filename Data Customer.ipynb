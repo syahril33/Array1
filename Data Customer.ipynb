{
 "cells": [
  {
   "cell_type": "markdown",
   "id": "91d4222d",
   "metadata": {},
   "source": [
    "<b>Project Data Customer</b><br>\n",
    "Buatlah contoh data customner sebanyak 1000 yang akan digunakan untuk prediksi:<br>\n",
    "<ol>\n",
    "    <li>Usia : 18 - 60</li>\n",
    "    <li>Gender : L/P -> L(1),P(0)</li>\n",
    "    <li>Transaksi/Bulan : 0-50</li>\n",
    "    <li>Kategori Pembayaran : Buruk,sedang,Bagus</li>\n",
    "</ol>"
   ]
  },
  {
   "cell_type": "code",
   "execution_count": 15,
   "id": "8e07a255",
   "metadata": {},
   "outputs": [
    {
     "name": "stdout",
     "output_type": "stream",
     "text": [
      "     Usia  Gender  Transaksi/Bulan Kategori Bayar\n",
      "0      40       0               35         sedang\n",
      "1      59       1               18         sedang\n",
      "2      50       1               28         sedang\n",
      "3      51       0                3         sedang\n",
      "4      31       0               14         sedang\n",
      "..    ...     ...              ...            ...\n",
      "495    48       1               42         sedang\n",
      "496    45       1               42         sedang\n",
      "497    19       1               11         sedang\n",
      "498    22       1               39         sedang\n",
      "499    43       0               33         sedang\n",
      "\n",
      "[500 rows x 4 columns]\n",
      "<class 'pandas.core.frame.DataFrame'>\n",
      "RangeIndex: 500 entries, 0 to 499\n",
      "Data columns (total 4 columns):\n",
      " #   Column           Non-Null Count  Dtype \n",
      "---  ------           --------------  ----- \n",
      " 0   Usia             500 non-null    int32 \n",
      " 1   Gender           500 non-null    int32 \n",
      " 2   Transaksi/Bulan  500 non-null    int32 \n",
      " 3   Kategori Bayar   500 non-null    object\n",
      "dtypes: int32(3), object(1)\n",
      "memory usage: 9.9+ KB\n",
      "None\n",
      "   Usia  Gender  Transaksi/Bulan Kategori Bayar\n",
      "0    40       0               35         sedang\n",
      "1    59       1               18         sedang\n",
      "2    50       1               28         sedang\n",
      "3    51       0                3         sedang\n",
      "4    31       0               14         sedang\n",
      "Usia Customer yang termuda:18\n",
      "256.0\n",
      "256\n"
     ]
    }
   ],
   "source": [
    "import numpy as np\n",
    "import pandas as pd\n",
    "\n",
    "n_data = 500\n",
    "\n",
    "usia = np.random.randint(18,61,size=n_data)\n",
    "gender = np.random.randint(0,2,size=n_data)\n",
    "transaksi = np.random.randint(0,51,size=n_data)\n",
    "kategori = np.random.choice(['Buruk','sedang','Bagus'])\n",
    "\n",
    "df = pd.DataFrame({\n",
    "    'Usia' : usia,\n",
    "    'Gender' : gender,\n",
    "    'Transaksi/Bulan' : transaksi,\n",
    "    'Kategori Bayar' : kategori,\n",
    "})\n",
    "\n",
    "print(df)\n",
    "print(df.info())\n",
    "print(df.head()) #mengetahui isi 5 baris pertama dari data\n",
    "print(f\"Usia Customer yang termuda:{df['Usia'].min()}\")\n",
    "jmlL = df[df['Gender']==1]\n",
    "print(jmlL.size/4)\n",
    "print(jmlL['Gender'].size)\n",
    "df.to_csv('dataCustomer.csv')"
   ]
  },
  {
   "cell_type": "code",
   "execution_count": null,
   "id": "56ea1ca6",
   "metadata": {},
   "outputs": [],
   "source": []
  },
  {
   "cell_type": "code",
   "execution_count": null,
   "id": "9de59339",
   "metadata": {},
   "outputs": [],
   "source": []
  }
 ],
 "metadata": {
  "kernelspec": {
   "display_name": "Python 3 (ipykernel)",
   "language": "python",
   "name": "python3"
  },
  "language_info": {
   "codemirror_mode": {
    "name": "ipython",
    "version": 3
   },
   "file_extension": ".py",
   "mimetype": "text/x-python",
   "name": "python",
   "nbconvert_exporter": "python",
   "pygments_lexer": "ipython3",
   "version": "3.9.12"
  }
 },
 "nbformat": 4,
 "nbformat_minor": 5
}
