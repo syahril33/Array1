{
 "cells": [
  {
   "cell_type": "code",
   "execution_count": 1,
   "id": "b4534edd",
   "metadata": {},
   "outputs": [],
   "source": [
    "import numpy as np\n"
   ]
  },
  {
   "cell_type": "code",
   "execution_count": 4,
   "id": "89581f13",
   "metadata": {},
   "outputs": [
    {
     "name": "stdout",
     "output_type": "stream",
     "text": [
      "Array mat1D : [1 2 3 4 5 6 7 8 9]\n",
      "Array mat1D + 10 [11 12 13 14 15 16 17 18 19]\n",
      "Array mat1D indeks ke 2 : 3\n"
     ]
    }
   ],
   "source": [
    "mat1D = np.array([1,2,3,4,5,6,7,8,9])\n",
    "print(f\"Array mat1D : {mat1D}\")\n",
    "print(f\"Array mat1D + 10 {mat1D + 10}\")\n",
    "print(f\"Array mat1D indeks ke 2 : {mat1D [2]}\")"
   ]
  },
  {
   "cell_type": "code",
   "execution_count": 11,
   "id": "d29ae7e0",
   "metadata": {},
   "outputs": [
    {
     "name": "stdout",
     "output_type": "stream",
     "text": [
      "Array mat2D : [[1 2 3]\n",
      " [4 5 6]\n",
      " [7 8 9]]\n",
      "Array mat2D + 10 [[11 12 13]\n",
      " [14 15 16]\n",
      " [17 18 19]]\n"
     ]
    }
   ],
   "source": [
    "mat2D = np.array([[1,2,3],[4,5,6],[7,8,9]])\n",
    "print(f\"Array mat2D : {mat2D}\")\n",
    "print(f\"Array mat2D + 10 {mat2D + 10}\")"
   ]
  },
  {
   "cell_type": "code",
   "execution_count": 13,
   "id": "99117c83",
   "metadata": {},
   "outputs": [
    {
     "name": "stdout",
     "output_type": "stream",
     "text": [
      "(9,)\n",
      "(3, 3)\n"
     ]
    }
   ],
   "source": [
    "print(mat1D.shape) #mengetahui bentuk matriks\n",
    "print(mat2D.shape)"
   ]
  },
  {
   "cell_type": "code",
   "execution_count": 14,
   "id": "831aed55",
   "metadata": {},
   "outputs": [
    {
     "name": "stdout",
     "output_type": "stream",
     "text": [
      "9\n",
      "9\n"
     ]
    }
   ],
   "source": [
    "print(mat1D.size) #mengetahui ukuran dari matriks\n",
    "print(mat2D.size)"
   ]
  },
  {
   "cell_type": "code",
   "execution_count": 25,
   "id": "6ec27905",
   "metadata": {},
   "outputs": [
    {
     "name": "stdout",
     "output_type": "stream",
     "text": [
      "Matriks mZero : \n",
      " [[0. 0. 0.]\n",
      " [0. 0. 0.]\n",
      " [0. 0. 0.]]\n",
      "Matriks mOne : \n",
      " [[1. 1. 1. 1.]\n",
      " [1. 1. 1. 1.]\n",
      " [1. 1. 1. 1.]\n",
      " [1. 1. 1. 1.]]\n",
      "Matriks identity : \n",
      " [[1. 0. 0. 0.]\n",
      " [0. 1. 0. 0.]\n",
      " [0. 0. 1. 0.]\n",
      " [0. 0. 0. 1.]]\n",
      "Matriks mFull : \n",
      " [[10 10 10]\n",
      " [10 10 10]\n",
      " [10 10 10]]\n"
     ]
    }
   ],
   "source": [
    "#special matriks\n",
    "mZero = np.zeros((3,3))\n",
    "mOne = np.ones((4,4))\n",
    "mIdentity = np.eye((4))\n",
    "mFull = np.full((3,3),10)\n",
    "\n",
    "print(f\"Matriks mZero : \\n {mZero}\")\n",
    "print(f\"Matriks mOne : \\n {mOne}\")\n",
    "print(f\"Matriks identity : \\n {mIdentity}\")\n",
    "print(f\"Matriks mFull : \\n {mFull}\")\n"
   ]
  },
  {
   "cell_type": "code",
   "execution_count": 28,
   "id": "873301cd",
   "metadata": {},
   "outputs": [
    {
     "name": "stdout",
     "output_type": "stream",
     "text": [
      "r1 : 45\n",
      "r2 : [7 8 9]\n"
     ]
    }
   ],
   "source": [
    "#Aritmatic Array\n",
    "x = np.array([2,3,4])\n",
    "y = np.array([5,5,5])\n",
    "r1 = np.dot(x,y) #\n",
    "r2 = np.add(x,y) #penjumlahan matriks dimana ordonya harus sama\n",
    "print(f\"r1 : {r1}\")\n",
    "print(f\"r2 : {r2}\")"
   ]
  },
  {
   "cell_type": "code",
   "execution_count": 36,
   "id": "555afac9",
   "metadata": {},
   "outputs": [
    {
     "name": "stdout",
     "output_type": "stream",
     "text": [
      "[100  90  80  70  60  50  40]\n",
      "nMin : 40\n",
      "nMax : 100\n",
      "nMean : 70.0\n",
      "nSum : 490\n",
      "nMedian : 70.0\n",
      "Nilai Deviasi : 20.0\n"
     ]
    }
   ],
   "source": [
    "nilaiPemrograman = np.array([100,90,80,70,60,50,40])\n",
    "nMin = np.min(nilaiPemrograman)\n",
    "nMax = np.max(nilaiPemrograman)\n",
    "nMean = np.mean(nilaiPemrograman)\n",
    "nSum = np.sum(nilaiPemrograman)\n",
    "nMedian = np.median(nilaiPemrograman)\n",
    "nStd = np.std(nilaiPemrograman)\n",
    "\n",
    "print(nilaiPemrograman)\n",
    "print(f\"nMin : {nMin}\")\n",
    "print(f\"nMax : {nMax}\")\n",
    "print(f\"nMean : {nMean}\")\n",
    "print(f\"nSum : {nSum}\")\n",
    "print(f\"nMedian : {nMedian}\")\n",
    "print(f\"Nilai Deviasi : {nStd}\")"
   ]
  },
  {
   "cell_type": "code",
   "execution_count": null,
   "id": "b9a36d20",
   "metadata": {},
   "outputs": [],
   "source": []
  },
  {
   "cell_type": "code",
   "execution_count": null,
   "id": "986ab06d",
   "metadata": {},
   "outputs": [],
   "source": []
  }
 ],
 "metadata": {
  "kernelspec": {
   "display_name": "Python 3 (ipykernel)",
   "language": "python",
   "name": "python3"
  },
  "language_info": {
   "codemirror_mode": {
    "name": "ipython",
    "version": 3
   },
   "file_extension": ".py",
   "mimetype": "text/x-python",
   "name": "python",
   "nbconvert_exporter": "python",
   "pygments_lexer": "ipython3",
   "version": "3.9.12"
  }
 },
 "nbformat": 4,
 "nbformat_minor": 5
}
